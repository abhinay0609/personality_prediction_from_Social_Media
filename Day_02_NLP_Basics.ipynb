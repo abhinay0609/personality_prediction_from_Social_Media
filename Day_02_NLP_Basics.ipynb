{
 "cells": [
  {
   "cell_type": "code",
   "execution_count": 1,
   "metadata": {
    "executionInfo": {
     "elapsed": 26,
     "status": "ok",
     "timestamp": 1749555523154,
     "user": {
      "displayName": "Abhinay Singh",
      "userId": "04074215444349371949"
     },
     "user_tz": -330
    },
    "id": "idCKLthtoMew"
   },
   "outputs": [],
   "source": [
    "# Running basic NLP text pre processing code just to see how things work.\n",
    "\n"
   ]
  },
  {
   "cell_type": "code",
   "execution_count": 2,
   "metadata": {
    "colab": {
     "base_uri": "https://localhost:8080/"
    },
    "executionInfo": {
     "elapsed": 26246,
     "status": "ok",
     "timestamp": 1749555549421,
     "user": {
      "displayName": "Abhinay Singh",
      "userId": "04074215444349371949"
     },
     "user_tz": -330
    },
    "id": "v4tTblHxjYYd",
    "outputId": "fe2de56d-4bd1-42d1-b6f8-b9230c1f1068"
   },
   "outputs": [
    {
     "name": "stdout",
     "output_type": "stream",
     "text": [
      "Requirement already satisfied: nltk in c:\\users\\abhinay\\appdata\\local\\programs\\python\\python313\\lib\\site-packages (3.9.1)\n",
      "Requirement already satisfied: click in c:\\users\\abhinay\\appdata\\local\\programs\\python\\python313\\lib\\site-packages (from nltk) (8.1.8)\n",
      "Requirement already satisfied: joblib in c:\\users\\abhinay\\appdata\\local\\programs\\python\\python313\\lib\\site-packages (from nltk) (1.5.1)\n",
      "Requirement already satisfied: regex>=2021.8.3 in c:\\users\\abhinay\\appdata\\local\\programs\\python\\python313\\lib\\site-packages (from nltk) (2024.11.6)\n",
      "Requirement already satisfied: tqdm in c:\\users\\abhinay\\appdata\\local\\programs\\python\\python313\\lib\\site-packages (from nltk) (4.67.1)\n",
      "Requirement already satisfied: colorama in c:\\users\\abhinay\\appdata\\local\\programs\\python\\python313\\lib\\site-packages (from click->nltk) (0.4.6)\n",
      "Note: you may need to restart the kernel to use updated packages.\n"
     ]
    },
    {
     "name": "stderr",
     "output_type": "stream",
     "text": [
      "[nltk_data] Downloading package punkt to\n",
      "[nltk_data]     C:\\Users\\Abhinay\\AppData\\Roaming\\nltk_data...\n",
      "[nltk_data]   Unzipping tokenizers\\punkt.zip.\n",
      "[nltk_data] Downloading package stopwords to\n",
      "[nltk_data]     C:\\Users\\Abhinay\\AppData\\Roaming\\nltk_data...\n"
     ]
    },
    {
     "name": "stdout",
     "output_type": "stream",
     "text": [
      "Cleaned Tokens: ['love', 'ai', 'machine', 'learning', 'exciting']\n"
     ]
    },
    {
     "name": "stderr",
     "output_type": "stream",
     "text": [
      "[nltk_data]   Unzipping corpora\\stopwords.zip.\n"
     ]
    }
   ],
   "source": [
    "from IPython import get_ipython\n",
    "from IPython.display import display\n",
    "# %%\n",
    "# Ensure NLTK is installed\n",
    "%pip install nltk\n",
    "# %%\n",
    "import nltk\n",
    "import shutil\n",
    "import string\n",
    "from nltk.corpus import stopwords\n",
    "\n",
    "# Remove the nltk_data directory to ensure a fresh download\n",
    "# This step is okay if you want to guarantee a fresh download, but be mindful of its side effects\n",
    "shutil.rmtree('/root/nltk_data', ignore_errors=True)\n",
    "\n",
    "# %%\n",
    "# Download the required resources *after* removing the directory\n",
    "# Force the download to ensure it happens\n",
    "nltk.download('punkt', force=True)\n",
    "nltk.download('stopwords', force=True)\n",
    "\n",
    "# %%\n",
    "text = \"I LOVE AI and Machine Learning!! It's so exciting.\"\n",
    "\n",
    "# Lowercase\n",
    "text = text.lower()\n",
    "\n",
    "# Remove punctuation\n",
    "text = ''.join([char for char in text if char not in string.punctuation])\n",
    "\n",
    "# Tokenize using split (not word_tokenize)\n",
    "tokens = text.split()\n",
    "\n",
    "# Remove stopwords\n",
    "stop_words = set(stopwords.words('english'))\n",
    "clean_tokens = [word for word in tokens if word not in stop_words]\n",
    "\n",
    "print(\"Cleaned Tokens:\", clean_tokens)"
   ]
  }
 ],
 "metadata": {
  "colab": {
   "authorship_tag": "ABX9TyPc1ErRlEhdNhYu+UvMl55h",
   "provenance": []
  },
  "kernelspec": {
   "display_name": "Python 3",
   "name": "python3"
  },
  "language_info": {
   "codemirror_mode": {
    "name": "ipython",
    "version": 3
   },
   "file_extension": ".py",
   "mimetype": "text/x-python",
   "name": "python",
   "nbconvert_exporter": "python",
   "pygments_lexer": "ipython3",
   "version": "3.13.2"
  }
 },
 "nbformat": 4,
 "nbformat_minor": 0
}
